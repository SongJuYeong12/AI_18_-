{
 "cells": [
  {
   "attachments": {},
   "cell_type": "markdown",
   "metadata": {},
   "source": [
    "반드시 들어가야 하는 내용 (Mission)\n",
    "앞서서 여러분에게 최대한의 자유를 드린다고 했지만, 그래도 발표에 반드시 포함되어야 하는 내용은 다음과 같습니다.\n",
    "\n",
    "지역에 따라서 선호하는 게임 장르가 다를까 라는 질문에 대답을 하셔야합니다.\n",
    "\n",
    "1.지역은 어떻게 구분했나요?\n",
    "- 지역별로 선호하는 게임의 장르를 파악했나요?\n",
    "- 지역별로 선호하는 게임의 장르가 왜 같다고/다르다고 생각했나요?\n",
    "\n",
    "2.연도별 게임의 트렌드가 있을까 라는 질문에 대답을 하셔야합니다.\n",
    "- 트렌드는 어떤 것을 기준으로 파악했나요?\n",
    "- 연도별로 트렌드가 존재하나요?\n",
    "- 왜 존재한다/존재하지 않는다고 생각했나요?\n",
    "\n",
    "3.인기가 많은 게임에 대한 분석 및 시각화 프로세스가 포함되어야 합니다.\n",
    "- 인기가 많다는 것을 어떻게 정의했나요?\n",
    "- 해당 게임이 왜 인기가 많다고 생각했나요?\n",
    "- 시각화를 통해 무엇을 나타내고자 하는지를 고려했나요?\n",
    "- 해당 분석을 통해 어떤 인사이트를 도출할 수 있나요?\n",
    "\n",
    "4.다음 분기에 어떤 게임을 설계해야 하는지에 대한 결론이 제시되어야 합니다.\n",
    "\n",
    "더불어 유의미한 인사이트를 도출하기 위해서는\n",
    "- 다음 분기가 언제인지\n",
    "- 회사의 규모는 어느정도인지\n",
    "  와 같은 디테일한 상황 설정과 더불어 '왜' 이러한 결론을 도출하였는지에 대한 고민이 필요합니다.\n",
    "  \n",
    "위의 4가지 내용에 여러분들의 개인적인 분석 목표, 질문을 더하여 프로젝트를 완성하세요."
   ]
  },
  {
   "cell_type": "code",
   "execution_count": 1,
   "metadata": {},
   "outputs": [],
   "source": [
    "import re\n",
    "import pandas as pd\n",
    "import numpy as np\n",
    "import matplotlib.pyplot as plt"
   ]
  },
  {
   "cell_type": "code",
   "execution_count": 2,
   "metadata": {},
   "outputs": [
    {
     "name": "stderr",
     "output_type": "stream",
     "text": [
      "C:\\Users\\Home\\AppData\\Local\\Temp\\ipykernel_12456\\370598821.py:12: SettingWithCopyWarning: \n",
      "A value is trying to be set on a copy of a slice from a DataFrame.\n",
      "Try using .loc[row_indexer,col_indexer] = value instead\n",
      "\n",
      "See the caveats in the documentation: https://pandas.pydata.org/pandas-docs/stable/user_guide/indexing.html#returning-a-view-versus-a-copy\n",
      "  df_clean[cols] = df_clean[cols].replace('[^0-9.]', '', regex=True)\n",
      "C:\\Users\\Home\\AppData\\Local\\Temp\\ipykernel_12456\\370598821.py:15: SettingWithCopyWarning: \n",
      "A value is trying to be set on a copy of a slice from a DataFrame.\n",
      "Try using .loc[row_indexer,col_indexer] = value instead\n",
      "\n",
      "See the caveats in the documentation: https://pandas.pydata.org/pandas-docs/stable/user_guide/indexing.html#returning-a-view-versus-a-copy\n",
      "  df_clean[['NA_Sales', 'EU_Sales', 'JP_Sales', 'Other_Sales']] = df_clean[['NA_Sales', 'EU_Sales', 'JP_Sales', 'Other_Sales']].astype(float)\n",
      "C:\\Users\\Home\\AppData\\Local\\Temp\\ipykernel_12456\\370598821.py:16: SettingWithCopyWarning: \n",
      "A value is trying to be set on a copy of a slice from a DataFrame.\n",
      "Try using .loc[row_indexer,col_indexer] = value instead\n",
      "\n",
      "See the caveats in the documentation: https://pandas.pydata.org/pandas-docs/stable/user_guide/indexing.html#returning-a-view-versus-a-copy\n",
      "  df_clean['Year'] = df_clean['Year'].astype(int)\n"
     ]
    }
   ],
   "source": [
    "# 원본 데이터 불러오기\n",
    "df = pd.read_csv('vgames2.csv')\n",
    "\n",
    "# 정제할 데이터셋\n",
    "df_clean = df\n",
    "\n",
    "# 결측치 제거\n",
    "df_clean = df_clean.dropna(axis=0)\n",
    "\n",
    "# 숫자 데이터에 문자 제거\n",
    "cols = df_clean.loc[:, 'NA_Sales':'Other_Sales'].columns\n",
    "df_clean[cols] = df_clean[cols].replace('[^0-9.]', '', regex=True)\n",
    "\n",
    "# 데이터 자료형 변환\n",
    "df_clean[['NA_Sales', 'EU_Sales', 'JP_Sales', 'Other_Sales']] = df_clean[['NA_Sales', 'EU_Sales', 'JP_Sales', 'Other_Sales']].astype(float)\n",
    "df_clean['Year'] = df_clean['Year'].astype(int)\n",
    "\n",
    "# 필요없는 column 제거\n",
    "df_clean = df_clean.drop('Unnamed: 0', axis=1)"
   ]
  },
  {
   "cell_type": "code",
   "execution_count": 3,
   "metadata": {},
   "outputs": [
    {
     "data": {
      "text/html": [
       "<div>\n",
       "<style scoped>\n",
       "    .dataframe tbody tr th:only-of-type {\n",
       "        vertical-align: middle;\n",
       "    }\n",
       "\n",
       "    .dataframe tbody tr th {\n",
       "        vertical-align: top;\n",
       "    }\n",
       "\n",
       "    .dataframe thead th {\n",
       "        text-align: right;\n",
       "    }\n",
       "</style>\n",
       "<table border=\"1\" class=\"dataframe\">\n",
       "  <thead>\n",
       "    <tr style=\"text-align: right;\">\n",
       "      <th></th>\n",
       "      <th>Genre</th>\n",
       "      <th>NA_Sales</th>\n",
       "      <th>EU_Sales</th>\n",
       "      <th>JP_Sales</th>\n",
       "    </tr>\n",
       "  </thead>\n",
       "  <tbody>\n",
       "    <tr>\n",
       "      <th>0</th>\n",
       "      <td>Action</td>\n",
       "      <td>7881.72</td>\n",
       "      <td>4729.42</td>\n",
       "      <td>1325.43</td>\n",
       "    </tr>\n",
       "    <tr>\n",
       "      <th>1</th>\n",
       "      <td>Adventure</td>\n",
       "      <td>371.52</td>\n",
       "      <td>203.52</td>\n",
       "      <td>111.81</td>\n",
       "    </tr>\n",
       "    <tr>\n",
       "      <th>2</th>\n",
       "      <td>Fighting</td>\n",
       "      <td>1029.54</td>\n",
       "      <td>1488.51</td>\n",
       "      <td>266.96</td>\n",
       "    </tr>\n",
       "    <tr>\n",
       "      <th>3</th>\n",
       "      <td>Misc</td>\n",
       "      <td>4150.97</td>\n",
       "      <td>2346.01</td>\n",
       "      <td>333.95</td>\n",
       "    </tr>\n",
       "    <tr>\n",
       "      <th>4</th>\n",
       "      <td>Platform</td>\n",
       "      <td>3752.07</td>\n",
       "      <td>1489.34</td>\n",
       "      <td>340.32</td>\n",
       "    </tr>\n",
       "    <tr>\n",
       "      <th>5</th>\n",
       "      <td>Puzzle</td>\n",
       "      <td>191.51</td>\n",
       "      <td>100.42</td>\n",
       "      <td>56.24</td>\n",
       "    </tr>\n",
       "    <tr>\n",
       "      <th>6</th>\n",
       "      <td>Racing</td>\n",
       "      <td>5839.21</td>\n",
       "      <td>864.39</td>\n",
       "      <td>316.06</td>\n",
       "    </tr>\n",
       "    <tr>\n",
       "      <th>7</th>\n",
       "      <td>Role-Playing</td>\n",
       "      <td>1527.55</td>\n",
       "      <td>213.06</td>\n",
       "      <td>4169.10</td>\n",
       "    </tr>\n",
       "    <tr>\n",
       "      <th>8</th>\n",
       "      <td>Shooter</td>\n",
       "      <td>3221.83</td>\n",
       "      <td>3646.89</td>\n",
       "      <td>78.14</td>\n",
       "    </tr>\n",
       "    <tr>\n",
       "      <th>9</th>\n",
       "      <td>Simulation</td>\n",
       "      <td>3048.56</td>\n",
       "      <td>1211.89</td>\n",
       "      <td>1312.29</td>\n",
       "    </tr>\n",
       "    <tr>\n",
       "      <th>10</th>\n",
       "      <td>Sports</td>\n",
       "      <td>3664.26</td>\n",
       "      <td>1100.24</td>\n",
       "      <td>364.53</td>\n",
       "    </tr>\n",
       "    <tr>\n",
       "      <th>11</th>\n",
       "      <td>Strategy</td>\n",
       "      <td>887.01</td>\n",
       "      <td>124.74</td>\n",
       "      <td>208.94</td>\n",
       "    </tr>\n",
       "  </tbody>\n",
       "</table>\n",
       "</div>"
      ],
      "text/plain": [
       "           Genre  NA_Sales  EU_Sales  JP_Sales\n",
       "0         Action   7881.72   4729.42   1325.43\n",
       "1      Adventure    371.52    203.52    111.81\n",
       "2       Fighting   1029.54   1488.51    266.96\n",
       "3           Misc   4150.97   2346.01    333.95\n",
       "4       Platform   3752.07   1489.34    340.32\n",
       "5         Puzzle    191.51    100.42     56.24\n",
       "6         Racing   5839.21    864.39    316.06\n",
       "7   Role-Playing   1527.55    213.06   4169.10\n",
       "8        Shooter   3221.83   3646.89     78.14\n",
       "9     Simulation   3048.56   1211.89   1312.29\n",
       "10        Sports   3664.26   1100.24    364.53\n",
       "11      Strategy    887.01    124.74    208.94"
      ]
     },
     "execution_count": 3,
     "metadata": {},
     "output_type": "execute_result"
    }
   ],
   "source": [
    "# 1번 질문\n",
    "# 지역별 장르별 매출액의 합계\n",
    "grouped = df_clean.groupby('Genre').agg({'NA_Sales': 'sum', 'EU_Sales': 'sum', 'JP_Sales': 'sum'})\n",
    "df_clean01 = pd.DataFrame({\n",
    "    'Genre' : list(grouped.index),\n",
    "    'NA_Sales' : list(grouped['NA_Sales']),\n",
    "    'EU_Sales' : list(grouped['EU_Sales']),\n",
    "    'JP_Sales' : list(grouped['JP_Sales'])\n",
    "})\n",
    "df_clean01"
   ]
  },
  {
   "cell_type": "code",
   "execution_count": 17,
   "metadata": {},
   "outputs": [
    {
     "name": "stderr",
     "output_type": "stream",
     "text": [
      "C:\\Users\\Home\\AppData\\Local\\Temp\\ipykernel_12456\\920513317.py:10: FutureWarning: The default value of numeric_only in DataFrameGroupBy.sum is deprecated. In a future version, numeric_only will default to False. Either specify numeric_only or select only columns which should be valid for the function.\n",
      "  grouped_df = df_clean02.groupby(['Year', 'Genre']).sum()\n"
     ]
    }
   ],
   "source": [
    "# 2번 질문\n",
    "# Year column에서 1000 이상 3000 이하인 값만 추출\n",
    "df_clean02 = df_clean[(df_clean['Year'] >= 1000) & (df_clean['Year'] <= 3000)]\n",
    "\n",
    "# Year column에서 빈도가 30개 이상인 값만 추출\n",
    "freq = df_clean02['Year'].value_counts()\n",
    "df_clean02 = df_clean02[df_clean02['Year'].isin(freq[freq >= 30].index)]\n",
    "df_clean02 = df_clean02.reset_index(drop=True)\n",
    "\n",
    "grouped_df = df_clean02.groupby(['Year', 'Genre']).sum()\n",
    "df_clean02 = grouped_df['NA_Sales'] + grouped_df['EU_Sales'] + grouped_df['JP_Sales'] + grouped_df['Other_Sales']"
   ]
  },
  {
   "cell_type": "code",
   "execution_count": 47,
   "metadata": {},
   "outputs": [
    {
     "data": {
      "text/plain": [
       "Year  Genre       \n",
       "1981  Action          124.68\n",
       "      Platform          6.92\n",
       "      Puzzle            2.25\n",
       "      Racing            0.48\n",
       "      Shooter          10.02\n",
       "                       ...  \n",
       "2016  Role-Playing     36.72\n",
       "      Shooter          13.97\n",
       "      Simulation        0.39\n",
       "      Sports           14.46\n",
       "      Strategy          0.52\n",
       "Length: 325, dtype: float64"
      ]
     },
     "execution_count": 47,
     "metadata": {},
     "output_type": "execute_result"
    }
   ],
   "source": [
    "df_clean02"
   ]
  },
  {
   "cell_type": "code",
   "execution_count": 6,
   "metadata": {},
   "outputs": [],
   "source": [
    "grouped1 = df_clean.groupby('Genre').agg({'NA_Sales': 'sum', 'EU_Sales': 'sum', 'JP_Sales': 'sum', 'Other_Sales' : 'sum'})\n",
    "df_clean03 = pd.DataFrame({\n",
    "    'Genre' : list(grouped.index),\n",
    "    'NA_Sales' : list(grouped1['NA_Sales']),\n",
    "    'EU_Sales' : list(grouped1['EU_Sales']),\n",
    "    'JP_Sales' : list(grouped1['JP_Sales']),\n",
    "    'Other_Sales' : list(grouped1['Other_Sales'])\n",
    "})"
   ]
  },
  {
   "cell_type": "code",
   "execution_count": 7,
   "metadata": {},
   "outputs": [],
   "source": [
    "df_clean04 = df_clean03['NA_Sales'] + df_clean03['EU_Sales'] + df_clean03['JP_Sales'] + df_clean03['Other_Sales']"
   ]
  },
  {
   "cell_type": "code",
   "execution_count": 8,
   "metadata": {},
   "outputs": [
    {
     "data": {
      "text/plain": [
       "5       360.61\n",
       "1       783.47\n",
       "11     1451.70\n",
       "2      2961.02\n",
       "9      5673.99\n",
       "10     5730.91\n",
       "4      5972.84\n",
       "7      6695.71\n",
       "3      7033.44\n",
       "8      7388.38\n",
       "6      7435.83\n",
       "0     15029.65\n",
       "dtype: float64"
      ]
     },
     "execution_count": 8,
     "metadata": {},
     "output_type": "execute_result"
    }
   ],
   "source": [
    "df_clean04.sort_values()"
   ]
  },
  {
   "cell_type": "code",
   "execution_count": 16,
   "metadata": {},
   "outputs": [
    {
     "data": {
      "text/plain": [
       "([<matplotlib.axis.XTick at 0x2016240bad0>,\n",
       "  <matplotlib.axis.XTick at 0x201623f7490>,\n",
       "  <matplotlib.axis.XTick at 0x201623e6150>,\n",
       "  <matplotlib.axis.XTick at 0x20162404550>,\n",
       "  <matplotlib.axis.XTick at 0x20162406610>,\n",
       "  <matplotlib.axis.XTick at 0x201623c6150>,\n",
       "  <matplotlib.axis.XTick at 0x201622a2a90>,\n",
       "  <matplotlib.axis.XTick at 0x201622da710>,\n",
       "  <matplotlib.axis.XTick at 0x20162430990>,\n",
       "  <matplotlib.axis.XTick at 0x20161e78810>,\n",
       "  <matplotlib.axis.XTick at 0x20162433e10>,\n",
       "  <matplotlib.axis.XTick at 0x2016245e190>],\n",
       " [Text(0, 0, '15029.65'),\n",
       "  Text(1, 0, '783.4699999999999'),\n",
       "  Text(2, 0, '2961.0200000000004'),\n",
       "  Text(3, 0, '7033.4400000000005'),\n",
       "  Text(4, 0, '5972.839999999999'),\n",
       "  Text(5, 0, '360.61'),\n",
       "  Text(6, 0, '7435.830000000001'),\n",
       "  Text(7, 0, '6695.709999999999'),\n",
       "  Text(8, 0, '7388.380000000001'),\n",
       "  Text(9, 0, '5673.99'),\n",
       "  Text(10, 0, '5730.91'),\n",
       "  Text(11, 0, '1451.7')])"
      ]
     },
     "execution_count": 16,
     "metadata": {},
     "output_type": "execute_result"
    },
    {
     "data": {
      "image/png": "[encoded data removed]",
      "text/plain": [
       "<Figure size 640x480 with 1 Axes>"
      ]
     },
     "metadata": {},
     "output_type": "display_data"
    }
   ],
   "source": [
    "x = list(df_clean04.index)\n",
    "y = list(df_clean04.values)\n",
    "plt.bar(x, y, color='y')\n",
    "plt.xticks(x, y)"
   ]
  },
  {
   "cell_type": "code",
   "execution_count": null,
   "metadata": {},
   "outputs": [],
   "source": [
    "# 매출증가를 목표로 잡을때는 액션게임은 제작하는것이 좋다"
   ]
  }
 ],
 "metadata": {
  "kernelspec": {
   "display_name": "Python 3",
   "language": "python",
   "name": "python3"
  },
  "language_info": {
   "codemirror_mode": {
    "name": "ipython",
    "version": 3
   },
   "file_extension": ".py",
   "mimetype": "text/x-python",
   "name": "python",
   "nbconvert_exporter": "python",
   "pygments_lexer": "ipython3",
   "version": "3.11.2"
  },
  "orig_nbformat": 4
 },
 "nbformat": 4,
 "nbformat_minor": 2
}
